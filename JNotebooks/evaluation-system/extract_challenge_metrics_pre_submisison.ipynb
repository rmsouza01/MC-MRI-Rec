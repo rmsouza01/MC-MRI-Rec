{
 "cells": [
  {
   "cell_type": "markdown",
   "metadata": {},
   "source": [
    "# Pre-submission metrics\n",
    "\n",
    "This script extracts the metrics on the pre-submission set for teams to get an estimate of how their models are performing in the test set.\n",
    "\n",
    "It is not relevant after the 2020 MIDL workshop, since future submissions will be reported only in the full test set."
   ]
  },
  {
   "cell_type": "code",
   "execution_count": null,
   "metadata": {},
   "outputs": [],
   "source": [
    "%matplotlib inline\n",
    "import sys\n",
    "import numpy as np\n",
    "import os\n",
    "import glob\n",
    "import pickle\n",
    "import h5py\n",
    "from mrrec.metrics import metrics\n",
    "\n",
    "\n",
    "results_path = \"../../../Results-submissions/\"\n",
    "\n",
    "team_name = \"ResoNNance/submission-03-August-2020\"\n",
    "\n",
    "reference = \"reference\"\n",
    "\n",
    "nfiles = 4\n",
    "nslices = 156\n",
    "\n",
    "res_dic = {}\n",
    "\n",
    "files12 = [ \"e15790s3_P01536.7.h5\",\"e14939s3_P44032.7.h5\", \"e13991s3_P01536.7.h5\", \"e15046s3_P59392.7.h5\", \\\n",
    "          \"e15791s4_P11264.7.h5\"]# \n",
    "        \n",
    "files32 = [\"e16578s3_P19968.7.h5\", \"e16842s3_P55296.7.h5\", \"e16214s13_P25088.7.h5\", \"e16587s3_P20992.7.h5\",\\\n",
    "           \"e16869s3_P03584.7.h5\"]\n",
    "\n",
    "recs12 = [os.path.join(results_path,team_name,\"Track01\",\"12-channel-R=5\"),\\\n",
    "        os.path.join(results_path,team_name,\"Track01\",\"12-channel-R=10\"),\\\n",
    "        os.path.join(results_path,team_name,\"Track02\",\"12-channel-R=5\"),\\\n",
    "        os.path.join(results_path,team_name,\"Track02\",\"12-channel-R=10\")]\n",
    "\n",
    "recs32 = [os.path.join(results_path,team_name,\"Track02\",\"32-channel-R=5\"),\\\n",
    "        os.path.join(results_path,team_name,\"Track02\",\"32-channel-R=10\")]\n",
    "\n",
    "refs12 = [os.path.join(results_path,reference,\"12-channel\")]*4\n",
    "\n",
    "refs32 = [os.path.join(results_path,reference,\"32-channel\")]*2\n",
    "\n",
    "\n",
    "dic_keys12 = [\"track01_12_channel_R=5\",\"track01_12_channel_R=10\",\"track02_12_channel_R=5\",\"track02_12_channel_R=10\"]\n",
    "dic_keys32 = [\"track02_32_channel_R=5\",\"track02_32_channel_R=10\"]"
   ]
  },
  {
   "cell_type": "code",
   "execution_count": 2,
   "metadata": {},
   "outputs": [
    {
     "name": "stdout",
     "output_type": "stream",
     "text": [
      "e15790s3_P01536.7.h5\n",
      "e14939s3_P44032.7.h5\n",
      "e13991s3_P01536.7.h5\n",
      "e15046s3_P59392.7.h5\n",
      "e15791s4_P11264.7.h5\n",
      "e15790s3_P01536.7.h5\n",
      "e14939s3_P44032.7.h5\n",
      "e13991s3_P01536.7.h5\n",
      "e15046s3_P59392.7.h5\n",
      "e15791s4_P11264.7.h5\n",
      "e15790s3_P01536.7.h5\n",
      "e14939s3_P44032.7.h5\n",
      "e13991s3_P01536.7.h5\n",
      "e15046s3_P59392.7.h5\n",
      "e15791s4_P11264.7.h5\n",
      "e15790s3_P01536.7.h5\n",
      "e14939s3_P44032.7.h5\n",
      "e13991s3_P01536.7.h5\n",
      "e15046s3_P59392.7.h5\n",
      "e15791s4_P11264.7.h5\n",
      "e16578s3_P19968.7.h5\n",
      "e16842s3_P55296.7.h5\n",
      "e16214s13_P25088.7.h5\n",
      "e16587s3_P20992.7.h5\n",
      "e16869s3_P03584.7.h5\n",
      "e16578s3_P19968.7.h5\n",
      "e16842s3_P55296.7.h5\n",
      "e16214s13_P25088.7.h5\n",
      "e16587s3_P20992.7.h5\n",
      "e16869s3_P03584.7.h5\n"
     ]
    }
   ],
   "source": [
    "for (i,rec_path) in enumerate(recs12):\n",
    "    nfiles = len(files12)\n",
    "    m = np.zeros((nfiles*nslices,3))\n",
    "    \n",
    "    for (jj,name) in enumerate(files12):\n",
    "        print(name)\n",
    "        try:\n",
    "            with h5py.File(os.path.join(rec_path,name), 'r') as f:\n",
    "                rec = f['reconstruction'][()]\n",
    "        except:\n",
    "            continue\n",
    "        with h5py.File(os.path.join(refs12[i],name), 'r') as f:\n",
    "            ref = f['reconstruction'][()]\n",
    "        \n",
    "        ref_max = ref.max(axis = (1,2),keepdims = True)\n",
    "        ref = ref/ref_max\n",
    "        rec = rec/ref_max\n",
    "        \n",
    "        \n",
    "        ssim,psnr,vif = metrics(rec,ref)    \n",
    "        m[jj*nslices:(jj+1)*nslices,0] = ssim\n",
    "        m[jj*nslices:(jj+1)*nslices,1] = psnr\n",
    "        m[jj*nslices:(jj+1)*nslices,2] = vif\n",
    "\n",
    "    res_dic[dic_keys12[i]] = m    \n",
    "\n",
    "\n",
    "for (i,rec_path) in enumerate(recs32):\n",
    "    nfiles = len(files32)\n",
    "    m = np.zeros((nfiles*nslices,3))\n",
    "    \n",
    "    for (jj,name) in enumerate(files32):\n",
    "        print(name)\n",
    "        try:\n",
    "            with h5py.File(os.path.join(rec_path,name), 'r') as f:\n",
    "                rec = f['reconstruction'][()]\n",
    "        except:\n",
    "            continue\n",
    "        with h5py.File(os.path.join(refs32[i],name), 'r') as f:\n",
    "            ref = f['reconstruction'][()]\n",
    "        \n",
    "        ref_max = ref.max(axis = (1,2),keepdims = True)\n",
    "        ref = ref/ref_max\n",
    "        rec = rec/ref_max\n",
    "        \n",
    "        ssim,psnr,vif = metrics(rec,ref)    \n",
    "        m[jj*nslices:(jj+1)*nslices,0] = ssim\n",
    "        m[jj*nslices:(jj+1)*nslices,1] = psnr\n",
    "        m[jj*nslices:(jj+1)*nslices,2] = vif\n",
    "\n",
    "    res_dic[dic_keys32[i]] = m                         "
   ]
  },
  {
   "cell_type": "code",
   "execution_count": 3,
   "metadata": {},
   "outputs": [],
   "source": [
    "out_file = os.path.join(results_path,'Metrics-pre-submission',team_name.replace(\"/\",\"-\",1) + '.pickle')\n",
    "with open(out_file, 'wb') as handle:\n",
    "    pickle.dump(res_dic, handle, protocol=pickle.HIGHEST_PROTOCOL)"
   ]
  },
  {
   "cell_type": "code",
   "execution_count": 14,
   "metadata": {},
   "outputs": [
    {
     "name": "stdout",
     "output_type": "stream",
     "text": [
      "Track 01 - 12-channel\n",
      "$R = 5 $ & $0.9339 \\pm 0.0137$ &  $34.64 \\pm 1.80$ &  $0.9589 \\pm 0.0132$\n",
      "$R = 10$ & $0.7677 \\pm 0.0374$ &  $26.19 \\pm 1.45$ &  $0.7159 \\pm 0.0573$\n"
     ]
    }
   ],
   "source": [
    "print(\"Track 01 - 12-channel\")\n",
    "\n",
    "t1_r5 = 'track01_12_channel_R=5'\n",
    "name = team_name.replace(\"/submission-\",\" - \",1)\n",
    "\n",
    "res_file = open(out_file,'rb')\n",
    "results = pickle.load(res_file)\n",
    "res_file.close()\n",
    "\n",
    "if t1_r5 in results:\n",
    "    res = results[t1_r5]\n",
    "    ssim = res[:,0].reshape(nslices,nfiles)\n",
    "    psnr = res[:,1].reshape(nslices,nfiles)\n",
    "    vif = res[:,2].reshape(nslices,nfiles)\n",
    "    aux = (ssim.mean(),ssim.std(),psnr.mean(),psnr.std(),vif.mean(),vif.std())\n",
    "\n",
    "    print(\"$R = 5 $ & $%.4f \\\\pm %.4f$ &  $%.2f \\\\pm %.2f$ &  $%.4f \\\\pm %.4f$\" %aux)\n",
    "\n",
    "\n",
    "t1_r10 = 'track01_12_channel_R=10'\n",
    "    \n",
    "if t1_r10 in results:\n",
    "    res = results[t1_r10]\n",
    "    ssim = res[:,0].reshape(nslices,nfiles)\n",
    "    psnr = res[:,1].reshape(nslices,nfiles)\n",
    "    vif = res[:,2].reshape(nslices,nfiles)\n",
    "    aux = (ssim.mean(),ssim.std(),psnr.mean(),psnr.std(),vif.mean(),vif.std())\n",
    "\n",
    "    print(\"$R = 10$ & $%.4f \\\\pm %.4f$ &  $%.2f \\\\pm %.2f$ &  $%.4f \\\\pm %.4f$\" %aux)"
   ]
  },
  {
   "cell_type": "code",
   "execution_count": 13,
   "metadata": {},
   "outputs": [
    {
     "name": "stdout",
     "output_type": "stream",
     "text": [
      "Track 02 - 12-channel\n",
      "$R = 5 $ & $0.9339 \\pm 0.0137$ &  $34.64 \\pm 1.80$ &  $0.9589 \\pm 0.0132$\n",
      "$R = 10$ & $0.7677 \\pm 0.0374$ &  $26.19 \\pm 1.45$ &  $0.7159 \\pm 0.0573$\n"
     ]
    }
   ],
   "source": [
    "print(\"Track 02 - 12-channel\")\n",
    "\n",
    "t2_c12_r5 = 'track02_12_channel_R=5'\n",
    "if t2_c12_r5 in results:\n",
    "    res = results[t2_c12_r5]\n",
    "    ssim = res[:,0].reshape(nslices,nfiles)\n",
    "    psnr = res[:,1].reshape(nslices,nfiles)\n",
    "    vif = res[:,2].reshape(nslices,nfiles)\n",
    "    aux = (ssim.mean(),ssim.std(),psnr.mean(),psnr.std(),vif.mean(),vif.std())\n",
    "\n",
    "    print(\"$R = 5 $ & $%.4f \\\\pm %.4f$ &  $%.2f \\\\pm %.2f$ &  $%.4f \\\\pm %.4f$\" %aux)\n",
    "\n",
    "\n",
    "t2_c12_r10 = 'track02_12_channel_R=10'\n",
    "\n",
    "if t2_c12_r10 in results:\n",
    "    res = results[t2_c12_r10]\n",
    "    ssim = res[:,0].reshape(nslices,nfiles)\n",
    "    psnr = res[:,1].reshape(nslices,nfiles)\n",
    "    vif = res[:,2].reshape(nslices,nfiles)\n",
    "    aux = (ssim.mean(),ssim.std(),psnr.mean(),psnr.std(),vif.mean(),vif.std())\n",
    "\n",
    "    print(\"$R = 10$ & $%.4f \\\\pm %.4f$ &  $%.2f \\\\pm %.2f$ &  $%.4f \\\\pm %.4f$\" %aux)"
   ]
  },
  {
   "cell_type": "code",
   "execution_count": 15,
   "metadata": {},
   "outputs": [
    {
     "name": "stdout",
     "output_type": "stream",
     "text": [
      "$R = 5 $ & $0.9439 \\pm 0.0199$ &  $35.23 \\pm 2.56$ &  $0.9920 \\pm 0.0617$\n",
      "$R = 10$ & $0.9055 \\pm 0.0302$ &  $32.81 \\pm 2.53$ &  $0.9637 \\pm 0.0691$\n"
     ]
    }
   ],
   "source": [
    "t2_c32_r5 = 'track02_32_channel_R=5'\n",
    "\n",
    "\n",
    "if t2_c32_r5 in results:\n",
    "    res = results[t2_c32_r5]\n",
    "    ssim = res[:,0].reshape(nslices,nfiles)\n",
    "    psnr = res[:,1].reshape(nslices,nfiles)\n",
    "    vif = res[:,2].reshape(nslices,nfiles)\n",
    "    aux = (ssim.mean(),ssim.std(),psnr.mean(),psnr.std(),vif.mean(),vif.std())\n",
    "\n",
    "    print(\"$R = 5 $ & $%.4f \\\\pm %.4f$ &  $%.2f \\\\pm %.2f$ &  $%.4f \\\\pm %.4f$\" %aux)\n",
    "\n",
    "t2_c32_r10 = 'track02_32_channel_R=10'\n",
    "\n",
    "aux = []    \n",
    "if t2_c32_r10 in results:\n",
    "    res = results[t2_c32_r10]\n",
    "    ssim = res[:,0].reshape(nslices,nfiles)\n",
    "    psnr = res[:,1].reshape(nslices,nfiles)\n",
    "    vif = res[:,2].reshape(nslices,nfiles)\n",
    "    aux = (ssim.mean(),ssim.std(),psnr.mean(),psnr.std(),vif.mean(),vif.std())\n",
    "    print(\"$R = 10$ & $%.4f \\\\pm %.4f$ &  $%.2f \\\\pm %.2f$ &  $%.4f \\\\pm %.4f$\" %aux)"
   ]
  }
 ],
 "metadata": {
  "kernelspec": {
   "display_name": "Python 3",
   "language": "python",
   "name": "python3"
  },
  "language_info": {
   "codemirror_mode": {
    "name": "ipython",
    "version": 3
   },
   "file_extension": ".py",
   "mimetype": "text/x-python",
   "name": "python",
   "nbconvert_exporter": "python",
   "pygments_lexer": "ipython3",
   "version": "3.6.9"
  }
 },
 "nbformat": 4,
 "nbformat_minor": 4
}
